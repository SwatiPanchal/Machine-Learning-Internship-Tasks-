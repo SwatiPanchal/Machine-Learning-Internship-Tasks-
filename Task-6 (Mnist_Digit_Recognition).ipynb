{
 "cells": [
  {
   "cell_type": "code",
   "execution_count": 1,
   "metadata": {
    "executionInfo": {
     "elapsed": 6,
     "status": "ok",
     "timestamp": 1624730598612,
     "user": {
      "displayName": "Swati Panchal",
      "photoUrl": "https://lh3.googleusercontent.com/a-/AOh14GgNwzMAdH3k2CqNl8J3qroU_st11KSukf3LoBxZRQ=s64",
      "userId": "17766864383620253128"
     },
     "user_tz": -330
    },
    "id": "y73a5PJ-ukCt"
   },
   "outputs": [],
   "source": [
    "import numpy as np\n",
    "import pandas as pd\n",
    "import matplotlib.pyplot as plt\n",
    "import tensorflow as tf\n",
    "import seaborn as sns"
   ]
  },
  {
   "cell_type": "code",
   "execution_count": 2,
   "metadata": {
    "colab": {
     "base_uri": "https://localhost:8080/"
    },
    "executionInfo": {
     "elapsed": 1025,
     "status": "ok",
     "timestamp": 1624729951663,
     "user": {
      "displayName": "Swati Panchal",
      "photoUrl": "https://lh3.googleusercontent.com/a-/AOh14GgNwzMAdH3k2CqNl8J3qroU_st11KSukf3LoBxZRQ=s64",
      "userId": "17766864383620253128"
     },
     "user_tz": -330
    },
    "id": "vOv05aTCx2V0",
    "outputId": "5a46a93d-6b04-4721-f2e2-6e17096caccf"
   },
   "outputs": [],
   "source": [
    "mnist = tf.keras.datasets.mnist\n",
    "(X_train_full, y_train_full),(X_test, y_test) = mnist.load_data()"
   ]
  },
  {
   "cell_type": "code",
   "execution_count": 3,
   "metadata": {
    "colab": {
     "base_uri": "https://localhost:8080/"
    },
    "executionInfo": {
     "elapsed": 381,
     "status": "ok",
     "timestamp": 1624729960830,
     "user": {
      "displayName": "Swati Panchal",
      "photoUrl": "https://lh3.googleusercontent.com/a-/AOh14GgNwzMAdH3k2CqNl8J3qroU_st11KSukf3LoBxZRQ=s64",
      "userId": "17766864383620253128"
     },
     "user_tz": -330
    },
    "id": "IEqeBIvlc6l1",
    "outputId": "9201da07-178e-444d-9707-6634625f8882"
   },
   "outputs": [
    {
     "data": {
      "text/plain": [
       "(10000, 28, 28)"
      ]
     },
     "execution_count": 3,
     "metadata": {},
     "output_type": "execute_result"
    }
   ],
   "source": [
    "X_test.shape"
   ]
  },
  {
   "cell_type": "code",
   "execution_count": 4,
   "metadata": {
    "colab": {
     "base_uri": "https://localhost:8080/"
    },
    "executionInfo": {
     "elapsed": 8,
     "status": "ok",
     "timestamp": 1624510505519,
     "user": {
      "displayName": "Swati Panchal",
      "photoUrl": "https://lh3.googleusercontent.com/a-/AOh14GgNwzMAdH3k2CqNl8J3qroU_st11KSukf3LoBxZRQ=s64",
      "userId": "17766864383620253128"
     },
     "user_tz": -330
    },
    "id": "GPaHkdR_yYXg",
    "outputId": "a9dccf4c-aba9-48e4-8ad9-31e20533cf10"
   },
   "outputs": [
    {
     "data": {
      "text/plain": [
       "(60000, 28, 28)"
      ]
     },
     "execution_count": 4,
     "metadata": {},
     "output_type": "execute_result"
    }
   ],
   "source": [
    "X_train_full.shape"
   ]
  },
  {
   "cell_type": "code",
   "execution_count": 5,
   "metadata": {
    "colab": {
     "base_uri": "https://localhost:8080/"
    },
    "executionInfo": {
     "elapsed": 7,
     "status": "ok",
     "timestamp": 1624510506074,
     "user": {
      "displayName": "Swati Panchal",
      "photoUrl": "https://lh3.googleusercontent.com/a-/AOh14GgNwzMAdH3k2CqNl8J3qroU_st11KSukf3LoBxZRQ=s64",
      "userId": "17766864383620253128"
     },
     "user_tz": -330
    },
    "id": "9icclkPZyeT5",
    "outputId": "c9809a13-d8e7-4bdb-e3e9-508f79036e05"
   },
   "outputs": [
    {
     "data": {
      "text/plain": [
       "dtype('uint8')"
      ]
     },
     "execution_count": 5,
     "metadata": {},
     "output_type": "execute_result"
    }
   ],
   "source": [
    "X_train_full.dtype"
   ]
  },
  {
   "cell_type": "code",
   "execution_count": 6,
   "metadata": {
    "executionInfo": {
     "elapsed": 361,
     "status": "ok",
     "timestamp": 1624718168350,
     "user": {
      "displayName": "Swati Panchal",
      "photoUrl": "https://lh3.googleusercontent.com/a-/AOh14GgNwzMAdH3k2CqNl8J3qroU_st11KSukf3LoBxZRQ=s64",
      "userId": "17766864383620253128"
     },
     "user_tz": -330
    },
    "id": "sKBjnuTyyiO0"
   },
   "outputs": [],
   "source": [
    "X_valid, X_train = X_train_full[:5000]/255. , X_train_full[5000:]/255.\n",
    "y_valid, y_train = y_train_full[:5000], y_train_full[5000:]\n",
    "\n",
    "X_test = X_test/255."
   ]
  },
  {
   "cell_type": "code",
   "execution_count": 7,
   "metadata": {
    "colab": {
     "base_uri": "https://localhost:8080/"
    },
    "executionInfo": {
     "elapsed": 16,
     "status": "ok",
     "timestamp": 1624510509361,
     "user": {
      "displayName": "Swati Panchal",
      "photoUrl": "https://lh3.googleusercontent.com/a-/AOh14GgNwzMAdH3k2CqNl8J3qroU_st11KSukf3LoBxZRQ=s64",
      "userId": "17766864383620253128"
     },
     "user_tz": -330
    },
    "id": "aS32brNKz3Xa",
    "outputId": "2c7d4bb1-510f-427f-8559-ad85b023e474"
   },
   "outputs": [
    {
     "data": {
      "text/plain": [
       "(5000, 28, 28)"
      ]
     },
     "execution_count": 7,
     "metadata": {},
     "output_type": "execute_result"
    }
   ],
   "source": [
    "X_valid.shape"
   ]
  },
  {
   "cell_type": "code",
   "execution_count": 8,
   "metadata": {
    "colab": {
     "base_uri": "https://localhost:8080/"
    },
    "executionInfo": {
     "elapsed": 356,
     "status": "ok",
     "timestamp": 1624455821390,
     "user": {
      "displayName": "Swati Panchal",
      "photoUrl": "https://lh3.googleusercontent.com/a-/AOh14GgNwzMAdH3k2CqNl8J3qroU_st11KSukf3LoBxZRQ=s64",
      "userId": "17766864383620253128"
     },
     "user_tz": -330
    },
    "id": "d-RDjXxjHJug",
    "outputId": "68770549-aae2-4c20-bcb2-51ad8988f203"
   },
   "outputs": [
    {
     "data": {
      "text/plain": [
       "(55000, 28, 28)"
      ]
     },
     "execution_count": 8,
     "metadata": {},
     "output_type": "execute_result"
    }
   ],
   "source": [
    "X_train.shape"
   ]
  },
  {
   "cell_type": "code",
   "execution_count": 9,
   "metadata": {
    "colab": {
     "base_uri": "https://localhost:8080/",
     "height": 248
    },
    "executionInfo": {
     "elapsed": 55,
     "status": "ok",
     "timestamp": 1624374815954,
     "user": {
      "displayName": "Swati Panchal",
      "photoUrl": "https://lh3.googleusercontent.com/a-/AOh14GgNwzMAdH3k2CqNl8J3qroU_st11KSukf3LoBxZRQ=s64",
      "userId": "17766864383620253128"
     },
     "user_tz": -330
    },
    "id": "qbbLqhMLz5vZ",
    "outputId": "6efb05a8-e2e9-4b1b-d959-1ff1787c403f"
   },
   "outputs": [
    {
     "data": {
      "image/png": "[encoded data removed]",
      "text/plain": [
       "<Figure size 432x288 with 1 Axes>"
      ]
     },
     "metadata": {
      "needs_background": "light"
     },
     "output_type": "display_data"
    }
   ],
   "source": [
    "# lets  visualize the dataset\n",
    "\n",
    "plt.imshow(X_train[100], cmap='binary')\n",
    "plt.axis(\"off\")\n",
    "plt.show()"
   ]
  },
  {
   "cell_type": "code",
   "execution_count": 10,
   "metadata": {
    "colab": {
     "base_uri": "https://localhost:8080/",
     "height": 880
    },
    "executionInfo": {
     "elapsed": 3142,
     "status": "ok",
     "timestamp": 1624374819044,
     "user": {
      "displayName": "Swati Panchal",
      "photoUrl": "https://lh3.googleusercontent.com/a-/AOh14GgNwzMAdH3k2CqNl8J3qroU_st11KSukf3LoBxZRQ=s64",
      "userId": "17766864383620253128"
     },
     "user_tz": -330
    },
    "id": "FZ3r2kXZ0vPM",
    "outputId": "8b1fe9dd-471b-45ad-dc18-d97f8e0cc1db"
   },
   "outputs": [
    {
     "data": {
      "text/plain": [
       "<matplotlib.axes._subplots.AxesSubplot at 0x21cfd5e7c88>"
      ]
     },
     "execution_count": 10,
     "metadata": {},
     "output_type": "execute_result"
    },
    {
     "data": {
      "image/png": "[encoded data removed]",
      "text/plain": [
       "<Figure size 1080x1080 with 2 Axes>"
      ]
     },
     "metadata": {
      "needs_background": "light"
     },
     "output_type": "display_data"
    }
   ],
   "source": [
    "plt.figure(figsize=(15,15))\n",
    "sns.heatmap(X_train[100],annot=True, cmap='binary')"
   ]
  },
  {
   "cell_type": "code",
   "execution_count": 11,
   "metadata": {
    "colab": {
     "base_uri": "https://localhost:8080/"
    },
    "executionInfo": {
     "elapsed": 66,
     "status": "ok",
     "timestamp": 1624374819046,
     "user": {
      "displayName": "Swati Panchal",
      "photoUrl": "https://lh3.googleusercontent.com/a-/AOh14GgNwzMAdH3k2CqNl8J3qroU_st11KSukf3LoBxZRQ=s64",
      "userId": "17766864383620253128"
     },
     "user_tz": -330
    },
    "id": "ujMJQf_c1jlv",
    "outputId": "9e178bae-6d4d-4067-8cb5-bce5c03d509c"
   },
   "outputs": [
    {
     "data": {
      "text/plain": [
       "7"
      ]
     },
     "execution_count": 11,
     "metadata": {},
     "output_type": "execute_result"
    }
   ],
   "source": [
    "y_train[100]"
   ]
  },
  {
   "cell_type": "code",
   "execution_count": 12,
   "metadata": {
    "id": "UTscf6vh1rHD"
   },
   "outputs": [],
   "source": [
    "Layers = [tf.keras.layers.Flatten(input_shape=[28,28], name = \"inputlayer\"),\n",
    "          tf.keras.layers.Dense(300, activation='relu', name = \"hiddenlayer1\"),\n",
    "          tf.keras.layers.Dense(100, activation='relu', name = 'hiddenlayer2'),\n",
    "          tf.keras.layers.Dense(10, activation='softmax', name = \"outputlayer\")\n",
    "          ]"
   ]
  },
  {
   "cell_type": "code",
   "execution_count": 13,
   "metadata": {
    "id": "9Ci2rNWp31uF"
   },
   "outputs": [],
   "source": [
    "model_cf = tf.keras.models.Sequential(Layers)"
   ]
  },
  {
   "cell_type": "code",
   "execution_count": 14,
   "metadata": {
    "colab": {
     "base_uri": "https://localhost:8080/"
    },
    "executionInfo": {
     "elapsed": 66,
     "status": "ok",
     "timestamp": 1624374819051,
     "user": {
      "displayName": "Swati Panchal",
      "photoUrl": "https://lh3.googleusercontent.com/a-/AOh14GgNwzMAdH3k2CqNl8J3qroU_st11KSukf3LoBxZRQ=s64",
      "userId": "17766864383620253128"
     },
     "user_tz": -330
    },
    "id": "Su-Cs2Lj4B-c",
    "outputId": "0cd59d4c-7190-44cf-b388-11adff572d72"
   },
   "outputs": [
    {
     "data": {
      "text/plain": [
       "[<tensorflow.python.keras.layers.core.Flatten at 0x21c98593cc8>,\n",
       " <tensorflow.python.keras.layers.core.Dense at 0x21cce9c60c8>,\n",
       " <tensorflow.python.keras.layers.core.Dense at 0x21c9856efc8>,\n",
       " <tensorflow.python.keras.layers.core.Dense at 0x21c98591348>]"
      ]
     },
     "execution_count": 14,
     "metadata": {},
     "output_type": "execute_result"
    }
   ],
   "source": [
    "model_cf.layers"
   ]
  },
  {
   "cell_type": "code",
   "execution_count": 15,
   "metadata": {
    "colab": {
     "base_uri": "https://localhost:8080/"
    },
    "executionInfo": {
     "elapsed": 62,
     "status": "ok",
     "timestamp": 1624374819052,
     "user": {
      "displayName": "Swati Panchal",
      "photoUrl": "https://lh3.googleusercontent.com/a-/AOh14GgNwzMAdH3k2CqNl8J3qroU_st11KSukf3LoBxZRQ=s64",
      "userId": "17766864383620253128"
     },
     "user_tz": -330
    },
    "id": "_qXms7M86JsP",
    "outputId": "3069a4e3-0bcb-4a22-b050-536fe9d0d9de"
   },
   "outputs": [
    {
     "name": "stdout",
     "output_type": "stream",
     "text": [
      "Model: \"sequential\"\n",
      "_________________________________________________________________\n",
      "Layer (type)                 Output Shape              Param #   \n",
      "=================================================================\n",
      "inputlayer (Flatten)         (None, 784)               0         \n",
      "_________________________________________________________________\n",
      "hiddenlayer1 (Dense)         (None, 300)               235500    \n",
      "_________________________________________________________________\n",
      "hiddenlayer2 (Dense)         (None, 100)               30100     \n",
      "_________________________________________________________________\n",
      "outputlayer (Dense)          (None, 10)                1010      \n",
      "=================================================================\n",
      "Total params: 266,610\n",
      "Trainable params: 266,610\n",
      "Non-trainable params: 0\n",
      "_________________________________________________________________\n"
     ]
    }
   ],
   "source": [
    "model_cf.summary()"
   ]
  },
  {
   "cell_type": "code",
   "execution_count": 16,
   "metadata": {
    "colab": {
     "base_uri": "https://localhost:8080/",
     "height": 35
    },
    "executionInfo": {
     "elapsed": 60,
     "status": "ok",
     "timestamp": 1624374819054,
     "user": {
      "displayName": "Swati Panchal",
      "photoUrl": "https://lh3.googleusercontent.com/a-/AOh14GgNwzMAdH3k2CqNl8J3qroU_st11KSukf3LoBxZRQ=s64",
      "userId": "17766864383620253128"
     },
     "user_tz": -330
    },
    "id": "WVf-Ppwj6M5J",
    "outputId": "4ed0cb15-acd9-4ff1-d888-42e709a80788"
   },
   "outputs": [
    {
     "data": {
      "text/plain": [
       "'hiddenlayer1'"
      ]
     },
     "execution_count": 16,
     "metadata": {},
     "output_type": "execute_result"
    }
   ],
   "source": [
    "# Analyze the layers and weights  \n",
    "\n",
    "hidden1 = model_cf.layers[1]\n",
    "hidden1.name"
   ]
  },
  {
   "cell_type": "code",
   "execution_count": 17,
   "metadata": {
    "colab": {
     "base_uri": "https://localhost:8080/"
    },
    "executionInfo": {
     "elapsed": 59,
     "status": "ok",
     "timestamp": 1624374819055,
     "user": {
      "displayName": "Swati Panchal",
      "photoUrl": "https://lh3.googleusercontent.com/a-/AOh14GgNwzMAdH3k2CqNl8J3qroU_st11KSukf3LoBxZRQ=s64",
      "userId": "17766864383620253128"
     },
     "user_tz": -330
    },
    "id": "uspDNNgL6e5v",
    "outputId": "f12699bd-4ace-4f04-cd41-25203319e0f6"
   },
   "outputs": [
    {
     "data": {
      "text/plain": [
       "[array([[ 0.01338021, -0.024857  ,  0.04194655, ..., -0.05410514,\n",
       "          0.06652531, -0.06203479],\n",
       "        [-0.04941167,  0.05213331,  0.02804601, ...,  0.04291491,\n",
       "         -0.03362638,  0.03552378],\n",
       "        [ 0.06808272, -0.03575566, -0.00494687, ..., -0.0364223 ,\n",
       "         -0.04560728, -0.01291871],\n",
       "        ...,\n",
       "        [ 0.04229318,  0.01284216,  0.04871789, ..., -0.01711563,\n",
       "         -0.0727113 , -0.02441713],\n",
       "        [ 0.00279857, -0.01287291, -0.02978982, ..., -0.06216117,\n",
       "          0.05127591, -0.00390153],\n",
       "        [-0.04485172,  0.06092364,  0.00587822, ...,  0.0368655 ,\n",
       "          0.06064375, -0.0152747 ]], dtype=float32),\n",
       " array([0., 0., 0., 0., 0., 0., 0., 0., 0., 0., 0., 0., 0., 0., 0., 0., 0.,\n",
       "        0., 0., 0., 0., 0., 0., 0., 0., 0., 0., 0., 0., 0., 0., 0., 0., 0.,\n",
       "        0., 0., 0., 0., 0., 0., 0., 0., 0., 0., 0., 0., 0., 0., 0., 0., 0.,\n",
       "        0., 0., 0., 0., 0., 0., 0., 0., 0., 0., 0., 0., 0., 0., 0., 0., 0.,\n",
       "        0., 0., 0., 0., 0., 0., 0., 0., 0., 0., 0., 0., 0., 0., 0., 0., 0.,\n",
       "        0., 0., 0., 0., 0., 0., 0., 0., 0., 0., 0., 0., 0., 0., 0., 0., 0.,\n",
       "        0., 0., 0., 0., 0., 0., 0., 0., 0., 0., 0., 0., 0., 0., 0., 0., 0.,\n",
       "        0., 0., 0., 0., 0., 0., 0., 0., 0., 0., 0., 0., 0., 0., 0., 0., 0.,\n",
       "        0., 0., 0., 0., 0., 0., 0., 0., 0., 0., 0., 0., 0., 0., 0., 0., 0.,\n",
       "        0., 0., 0., 0., 0., 0., 0., 0., 0., 0., 0., 0., 0., 0., 0., 0., 0.,\n",
       "        0., 0., 0., 0., 0., 0., 0., 0., 0., 0., 0., 0., 0., 0., 0., 0., 0.,\n",
       "        0., 0., 0., 0., 0., 0., 0., 0., 0., 0., 0., 0., 0., 0., 0., 0., 0.,\n",
       "        0., 0., 0., 0., 0., 0., 0., 0., 0., 0., 0., 0., 0., 0., 0., 0., 0.,\n",
       "        0., 0., 0., 0., 0., 0., 0., 0., 0., 0., 0., 0., 0., 0., 0., 0., 0.,\n",
       "        0., 0., 0., 0., 0., 0., 0., 0., 0., 0., 0., 0., 0., 0., 0., 0., 0.,\n",
       "        0., 0., 0., 0., 0., 0., 0., 0., 0., 0., 0., 0., 0., 0., 0., 0., 0.,\n",
       "        0., 0., 0., 0., 0., 0., 0., 0., 0., 0., 0., 0., 0., 0., 0., 0., 0.,\n",
       "        0., 0., 0., 0., 0., 0., 0., 0., 0., 0., 0.], dtype=float32)]"
      ]
     },
     "execution_count": 17,
     "metadata": {},
     "output_type": "execute_result"
    }
   ],
   "source": [
    "hidden1.get_weights()"
   ]
  },
  {
   "cell_type": "code",
   "execution_count": 18,
   "metadata": {
    "id": "ARo2v02p6pXK"
   },
   "outputs": [],
   "source": [
    "weights, biases = hidden1.get_weights()"
   ]
  },
  {
   "cell_type": "code",
   "execution_count": 19,
   "metadata": {
    "colab": {
     "base_uri": "https://localhost:8080/"
    },
    "executionInfo": {
     "elapsed": 59,
     "status": "ok",
     "timestamp": 1624374819060,
     "user": {
      "displayName": "Swati Panchal",
      "photoUrl": "https://lh3.googleusercontent.com/a-/AOh14GgNwzMAdH3k2CqNl8J3qroU_st11KSukf3LoBxZRQ=s64",
      "userId": "17766864383620253128"
     },
     "user_tz": -330
    },
    "id": "b-0kPGxa8OE2",
    "outputId": "31d01e3e-f43c-4a6e-f5b7-2da4971616d4"
   },
   "outputs": [
    {
     "data": {
      "text/plain": [
       "(784, 300)"
      ]
     },
     "execution_count": 19,
     "metadata": {},
     "output_type": "execute_result"
    }
   ],
   "source": [
    "weights.shape"
   ]
  },
  {
   "cell_type": "code",
   "execution_count": 20,
   "metadata": {
    "colab": {
     "base_uri": "https://localhost:8080/"
    },
    "executionInfo": {
     "elapsed": 58,
     "status": "ok",
     "timestamp": 1624374819062,
     "user": {
      "displayName": "Swati Panchal",
      "photoUrl": "https://lh3.googleusercontent.com/a-/AOh14GgNwzMAdH3k2CqNl8J3qroU_st11KSukf3LoBxZRQ=s64",
      "userId": "17766864383620253128"
     },
     "user_tz": -330
    },
    "id": "VZoBeVaM8RZW",
    "outputId": "f2cd6632-2c12-4ada-842d-aa930456720a"
   },
   "outputs": [
    {
     "data": {
      "text/plain": [
       "(300,)"
      ]
     },
     "execution_count": 20,
     "metadata": {},
     "output_type": "execute_result"
    }
   ],
   "source": [
    "biases.shape"
   ]
  },
  {
   "cell_type": "code",
   "execution_count": 21,
   "metadata": {
    "id": "pH2zBH_t8S_V"
   },
   "outputs": [],
   "source": [
    "Loss_function = \"sparse_categorical_crossentropy\"\n",
    "optimizer = 'SGD'\n",
    "metrics = \"accuracy\"\n",
    "\n",
    "model_cf.compile(loss=Loss_function, optimizer=optimizer, metrics=metrics)"
   ]
  },
  {
   "cell_type": "code",
   "execution_count": 22,
   "metadata": {
    "colab": {
     "base_uri": "https://localhost:8080/"
    },
    "executionInfo": {
     "elapsed": 202291,
     "status": "ok",
     "timestamp": 1624375021303,
     "user": {
      "displayName": "Swati Panchal",
      "photoUrl": "https://lh3.googleusercontent.com/a-/AOh14GgNwzMAdH3k2CqNl8J3qroU_st11KSukf3LoBxZRQ=s64",
      "userId": "17766864383620253128"
     },
     "user_tz": -330
    },
    "id": "rx8_hRCz8x00",
    "outputId": "7fd799a3-7148-4fd8-de13-71a2f34ecf04"
   },
   "outputs": [
    {
     "name": "stdout",
     "output_type": "stream",
     "text": [
      "Epoch 1/30\n",
      "1719/1719 [==============================] - 7s 3ms/step - loss: 0.6295 - accuracy: 0.8327 - val_loss: 0.3093 - val_accuracy: 0.9166\n",
      "Epoch 2/30\n",
      "1719/1719 [==============================] - 5s 3ms/step - loss: 0.2912 - accuracy: 0.9180 - val_loss: 0.2401 - val_accuracy: 0.9352\n",
      "Epoch 3/30\n",
      "1719/1719 [==============================] - 5s 3ms/step - loss: 0.2382 - accuracy: 0.9321 - val_loss: 0.2080 - val_accuracy: 0.9414\n",
      "Epoch 4/30\n",
      "1719/1719 [==============================] - 5s 3ms/step - loss: 0.2025 - accuracy: 0.9417 - val_loss: 0.1765 - val_accuracy: 0.9512\n",
      "Epoch 5/30\n",
      "1719/1719 [==============================] - 5s 3ms/step - loss: 0.1761 - accuracy: 0.9498 - val_loss: 0.1600 - val_accuracy: 0.9560\n",
      "Epoch 6/30\n",
      "1719/1719 [==============================] - 5s 3ms/step - loss: 0.1554 - accuracy: 0.9561 - val_loss: 0.1417 - val_accuracy: 0.9592\n",
      "Epoch 7/30\n",
      "1719/1719 [==============================] - 5s 3ms/step - loss: 0.1387 - accuracy: 0.9600 - val_loss: 0.1334 - val_accuracy: 0.9632\n",
      "Epoch 8/30\n",
      "1719/1719 [==============================] - 5s 3ms/step - loss: 0.1254 - accuracy: 0.9643 - val_loss: 0.1202 - val_accuracy: 0.9674\n",
      "Epoch 9/30\n",
      "1719/1719 [==============================] - 5s 3ms/step - loss: 0.1138 - accuracy: 0.9680 - val_loss: 0.1124 - val_accuracy: 0.9688\n",
      "Epoch 10/30\n",
      "1719/1719 [==============================] - 5s 3ms/step - loss: 0.1040 - accuracy: 0.9708 - val_loss: 0.1070 - val_accuracy: 0.9704\n",
      "Epoch 11/30\n",
      "1719/1719 [==============================] - 5s 3ms/step - loss: 0.0958 - accuracy: 0.9729 - val_loss: 0.1032 - val_accuracy: 0.9722\n",
      "Epoch 12/30\n",
      "1719/1719 [==============================] - 5s 3ms/step - loss: 0.0879 - accuracy: 0.9751 - val_loss: 0.1003 - val_accuracy: 0.9704\n",
      "Epoch 13/30\n",
      "1719/1719 [==============================] - 5s 3ms/step - loss: 0.0818 - accuracy: 0.9773 - val_loss: 0.0942 - val_accuracy: 0.9716\n",
      "Epoch 14/30\n",
      "1719/1719 [==============================] - 5s 3ms/step - loss: 0.0757 - accuracy: 0.9789 - val_loss: 0.0888 - val_accuracy: 0.9748\n",
      "Epoch 15/30\n",
      "1719/1719 [==============================] - 5s 3ms/step - loss: 0.0704 - accuracy: 0.9805 - val_loss: 0.0866 - val_accuracy: 0.9730\n",
      "Epoch 16/30\n",
      "1719/1719 [==============================] - 5s 3ms/step - loss: 0.0655 - accuracy: 0.9820 - val_loss: 0.0871 - val_accuracy: 0.9736\n",
      "Epoch 17/30\n",
      "1719/1719 [==============================] - 5s 3ms/step - loss: 0.0611 - accuracy: 0.9837 - val_loss: 0.0818 - val_accuracy: 0.9756\n",
      "Epoch 18/30\n",
      "1719/1719 [==============================] - 5s 3ms/step - loss: 0.0573 - accuracy: 0.9845 - val_loss: 0.0833 - val_accuracy: 0.9740\n",
      "Epoch 19/30\n",
      "1719/1719 [==============================] - 5s 3ms/step - loss: 0.0537 - accuracy: 0.9853 - val_loss: 0.0774 - val_accuracy: 0.9750\n",
      "Epoch 20/30\n",
      "1719/1719 [==============================] - 5s 3ms/step - loss: 0.0503 - accuracy: 0.9867 - val_loss: 0.0760 - val_accuracy: 0.9764\n",
      "Epoch 21/30\n",
      "1719/1719 [==============================] - 5s 3ms/step - loss: 0.0473 - accuracy: 0.9871 - val_loss: 0.0766 - val_accuracy: 0.9762\n",
      "Epoch 22/30\n",
      "1719/1719 [==============================] - 5s 3ms/step - loss: 0.0442 - accuracy: 0.9884 - val_loss: 0.0741 - val_accuracy: 0.9782\n",
      "Epoch 23/30\n",
      "1719/1719 [==============================] - 5s 3ms/step - loss: 0.0419 - accuracy: 0.9893 - val_loss: 0.0721 - val_accuracy: 0.9776\n",
      "Epoch 24/30\n",
      "1719/1719 [==============================] - 5s 3ms/step - loss: 0.0395 - accuracy: 0.9901 - val_loss: 0.0720 - val_accuracy: 0.9778\n",
      "Epoch 25/30\n",
      "1719/1719 [==============================] - 5s 3ms/step - loss: 0.0369 - accuracy: 0.9910 - val_loss: 0.0707 - val_accuracy: 0.9780\n",
      "Epoch 26/30\n",
      "1719/1719 [==============================] - 5s 3ms/step - loss: 0.0349 - accuracy: 0.9915 - val_loss: 0.0691 - val_accuracy: 0.9796\n",
      "Epoch 27/30\n",
      "1719/1719 [==============================] - 5s 3ms/step - loss: 0.0329 - accuracy: 0.9922 - val_loss: 0.0695 - val_accuracy: 0.9788\n",
      "Epoch 28/30\n",
      "1719/1719 [==============================] - 5s 3ms/step - loss: 0.0311 - accuracy: 0.9925 - val_loss: 0.0697 - val_accuracy: 0.9796\n",
      "Epoch 29/30\n",
      "1719/1719 [==============================] - 6s 3ms/step - loss: 0.0296 - accuracy: 0.9929 - val_loss: 0.0693 - val_accuracy: 0.9794\n",
      "Epoch 30/30\n",
      "1719/1719 [==============================] - 5s 3ms/step - loss: 0.0276 - accuracy: 0.9935 - val_loss: 0.0669 - val_accuracy: 0.9802\n"
     ]
    }
   ],
   "source": [
    "Epoches = 30\n",
    "Validation_set = (X_valid, y_valid)\n",
    "\n",
    "history = model_cf.fit(X_train, y_train, epochs = Epoches, validation_data = Validation_set, batch_size=32)"
   ]
  },
  {
   "cell_type": "markdown",
   "metadata": {
    "id": "cOof38-OC4Uf"
   },
   "source": [
    "Saving the model"
   ]
  },
  {
   "cell_type": "code",
   "execution_count": 23,
   "metadata": {
    "id": "mTiClw7YDDUi"
   },
   "outputs": [],
   "source": [
    "# import time\n",
    "\n",
    "# def SaveModel_path(model_dir = \"Trained_model\"):\n",
    "#     os.makedirs(model_dir,exist_ok=True)\n",
    "#     filename = time.strftime('model_%Y_%m_%d_%H_%M_%S_.h5')\n",
    "#     model_path = os.path.join(model_dir, filename)\n",
    "#     print(f\"model {filename} will be saved at {model_path}\")\n",
    "#     return model_path"
   ]
  },
  {
   "cell_type": "code",
   "execution_count": 26,
   "metadata": {
    "colab": {
     "base_uri": "https://localhost:8080/",
     "height": 52
    },
    "executionInfo": {
     "elapsed": 43,
     "status": "ok",
     "timestamp": 1624375021312,
     "user": {
      "displayName": "Swati Panchal",
      "photoUrl": "https://lh3.googleusercontent.com/a-/AOh14GgNwzMAdH3k2CqNl8J3qroU_st11KSukf3LoBxZRQ=s64",
      "userId": "17766864383620253128"
     },
     "user_tz": -330
    },
    "id": "0P48GgyoDys9",
    "outputId": "4814609b-c7a9-424c-d474-d894c71301e0"
   },
   "outputs": [],
   "source": [
    "model_cf.save(\"Model.h5\")"
   ]
  },
  {
   "cell_type": "code",
   "execution_count": 27,
   "metadata": {
    "colab": {
     "base_uri": "https://localhost:8080/"
    },
    "executionInfo": {
     "elapsed": 543,
     "status": "ok",
     "timestamp": 1624378967742,
     "user": {
      "displayName": "Swati Panchal",
      "photoUrl": "https://lh3.googleusercontent.com/a-/AOh14GgNwzMAdH3k2CqNl8J3qroU_st11KSukf3LoBxZRQ=s64",
      "userId": "17766864383620253128"
     },
     "user_tz": -330
    },
    "id": "IQXRIYAeh5E5",
    "outputId": "0aeb7f31-3ac2-4bf2-91f0-da6d08d129b0"
   },
   "outputs": [
    {
     "data": {
      "text/plain": [
       "{'verbose': 1, 'epochs': 30, 'steps': 1719}"
      ]
     },
     "execution_count": 27,
     "metadata": {},
     "output_type": "execute_result"
    }
   ],
   "source": [
    "  history.params"
   ]
  },
  {
   "cell_type": "code",
   "execution_count": 28,
   "metadata": {
    "id": "ILrWjiZ9iAG3"
   },
   "outputs": [
    {
     "data": {
      "text/plain": [
       "{'loss': [0.6294766068458557,\n",
       "  0.2912497818470001,\n",
       "  0.23822557926177979,\n",
       "  0.20250806212425232,\n",
       "  0.17614755034446716,\n",
       "  0.15535937249660492,\n",
       "  0.13869424164295197,\n",
       "  0.12540167570114136,\n",
       "  0.11375971138477325,\n",
       "  0.10402266681194305,\n",
       "  0.09577418118715286,\n",
       "  0.08788895606994629,\n",
       "  0.08178609609603882,\n",
       "  0.07569968700408936,\n",
       "  0.07039222866296768,\n",
       "  0.06546038389205933,\n",
       "  0.06106342002749443,\n",
       "  0.05733632668852806,\n",
       "  0.05373784527182579,\n",
       "  0.05032694339752197,\n",
       "  0.04734914004802704,\n",
       "  0.044245313853025436,\n",
       "  0.04192635416984558,\n",
       "  0.03950827941298485,\n",
       "  0.03688795119524002,\n",
       "  0.03488454222679138,\n",
       "  0.03292715176939964,\n",
       "  0.03105585277080536,\n",
       "  0.029565174132585526,\n",
       "  0.027620479464530945],\n",
       " 'accuracy': [0.8327090740203857,\n",
       "  0.9179636240005493,\n",
       "  0.9321272969245911,\n",
       "  0.9416727423667908,\n",
       "  0.9498363733291626,\n",
       "  0.9561454653739929,\n",
       "  0.9600181579589844,\n",
       "  0.9642545580863953,\n",
       "  0.9680181741714478,\n",
       "  0.97079998254776,\n",
       "  0.9729090929031372,\n",
       "  0.9751272797584534,\n",
       "  0.9773454666137695,\n",
       "  0.9788545370101929,\n",
       "  0.9804909229278564,\n",
       "  0.9819636344909668,\n",
       "  0.9836727380752563,\n",
       "  0.9844545722007751,\n",
       "  0.9852727055549622,\n",
       "  0.9867091178894043,\n",
       "  0.9870545268058777,\n",
       "  0.9884363412857056,\n",
       "  0.9892908930778503,\n",
       "  0.9900545477867126,\n",
       "  0.9909999966621399,\n",
       "  0.9915454387664795,\n",
       "  0.9921636581420898,\n",
       "  0.9924908876419067,\n",
       "  0.9929454326629639,\n",
       "  0.9934909343719482],\n",
       " 'val_loss': [0.30925267934799194,\n",
       "  0.2400968074798584,\n",
       "  0.20802189409732819,\n",
       "  0.17646710574626923,\n",
       "  0.1599670946598053,\n",
       "  0.14166606962680817,\n",
       "  0.1334311068058014,\n",
       "  0.12016898393630981,\n",
       "  0.11237631738185883,\n",
       "  0.10701242834329605,\n",
       "  0.10320340842008591,\n",
       "  0.10028377920389175,\n",
       "  0.09415599703788757,\n",
       "  0.08875982463359833,\n",
       "  0.08655689656734467,\n",
       "  0.08708788454532623,\n",
       "  0.08181404322385788,\n",
       "  0.08331909030675888,\n",
       "  0.07735209912061691,\n",
       "  0.07600858807563782,\n",
       "  0.07659891992807388,\n",
       "  0.07412286847829819,\n",
       "  0.07207968831062317,\n",
       "  0.07203514128923416,\n",
       "  0.07073626667261124,\n",
       "  0.06912406533956528,\n",
       "  0.06954915821552277,\n",
       "  0.06972408294677734,\n",
       "  0.06928161531686783,\n",
       "  0.0669228732585907],\n",
       " 'val_accuracy': [0.9165999889373779,\n",
       "  0.9351999759674072,\n",
       "  0.9413999915122986,\n",
       "  0.951200008392334,\n",
       "  0.9559999704360962,\n",
       "  0.9592000246047974,\n",
       "  0.9631999731063843,\n",
       "  0.9674000144004822,\n",
       "  0.9688000082969666,\n",
       "  0.9703999757766724,\n",
       "  0.9721999764442444,\n",
       "  0.9703999757766724,\n",
       "  0.9715999960899353,\n",
       "  0.9747999906539917,\n",
       "  0.9729999899864197,\n",
       "  0.9735999703407288,\n",
       "  0.975600004196167,\n",
       "  0.9739999771118164,\n",
       "  0.9750000238418579,\n",
       "  0.9764000177383423,\n",
       "  0.9761999845504761,\n",
       "  0.9782000184059143,\n",
       "  0.9775999784469604,\n",
       "  0.9778000116348267,\n",
       "  0.9779999852180481,\n",
       "  0.9796000123023987,\n",
       "  0.9787999987602234,\n",
       "  0.9796000123023987,\n",
       "  0.9793999791145325,\n",
       "  0.9801999926567078]}"
      ]
     },
     "execution_count": 28,
     "metadata": {},
     "output_type": "execute_result"
    }
   ],
   "source": [
    "history.history"
   ]
  },
  {
   "cell_type": "code",
   "execution_count": 29,
   "metadata": {
    "colab": {
     "base_uri": "https://localhost:8080/",
     "height": 282
    },
    "executionInfo": {
     "elapsed": 614,
     "status": "ok",
     "timestamp": 1624379182448,
     "user": {
      "displayName": "Swati Panchal",
      "photoUrl": "https://lh3.googleusercontent.com/a-/AOh14GgNwzMAdH3k2CqNl8J3qroU_st11KSukf3LoBxZRQ=s64",
      "userId": "17766864383620253128"
     },
     "user_tz": -330
    },
    "id": "wRzxa3Ymim_r",
    "outputId": "858a878f-95c5-4df3-e338-8f0410ab44ff"
   },
   "outputs": [
    {
     "data": {
      "text/plain": [
       "<matplotlib.axes._subplots.AxesSubplot at 0x21cfd608508>"
      ]
     },
     "execution_count": 29,
     "metadata": {},
     "output_type": "execute_result"
    },
    {
     "data": {
      "image/png": "[encoded data removed]",
      "text/plain": [
       "<Figure size 432x288 with 1 Axes>"
      ]
     },
     "metadata": {
      "needs_background": "light"
     },
     "output_type": "display_data"
    }
   ],
   "source": [
    "pd.DataFrame(history.history).plot()"
   ]
  },
  {
   "cell_type": "code",
   "execution_count": 30,
   "metadata": {
    "colab": {
     "base_uri": "https://localhost:8080/"
    },
    "executionInfo": {
     "elapsed": 1133,
     "status": "ok",
     "timestamp": 1624379270101,
     "user": {
      "displayName": "Swati Panchal",
      "photoUrl": "https://lh3.googleusercontent.com/a-/AOh14GgNwzMAdH3k2CqNl8J3qroU_st11KSukf3LoBxZRQ=s64",
      "userId": "17766864383620253128"
     },
     "user_tz": -330
    },
    "id": "XNH3eTZni0Xt",
    "outputId": "44e9b412-54f1-4d66-8311-51221c4563db"
   },
   "outputs": [
    {
     "name": "stdout",
     "output_type": "stream",
     "text": [
      "313/313 [==============================] - 1s 2ms/step - loss: 0.0659 - accuracy: 0.9791\n"
     ]
    },
    {
     "data": {
      "text/plain": [
       "[0.06593675911426544, 0.9790999889373779]"
      ]
     },
     "execution_count": 30,
     "metadata": {},
     "output_type": "execute_result"
    }
   ],
   "source": [
    "model_cf.evaluate(X_test,y_test)"
   ]
  },
  {
   "cell_type": "code",
   "execution_count": 31,
   "metadata": {
    "colab": {
     "base_uri": "https://localhost:8080/"
    },
    "executionInfo": {
     "elapsed": 1086,
     "status": "ok",
     "timestamp": 1624380004168,
     "user": {
      "displayName": "Swati Panchal",
      "photoUrl": "https://lh3.googleusercontent.com/a-/AOh14GgNwzMAdH3k2CqNl8J3qroU_st11KSukf3LoBxZRQ=s64",
      "userId": "17766864383620253128"
     },
     "user_tz": -330
    },
    "id": "lqRrCRrSjJf2",
    "outputId": "2ff558d8-2943-4270-9ca8-6bf0da3cc23d"
   },
   "outputs": [
    {
     "data": {
      "text/plain": [
       "(3, 28, 28)"
      ]
     },
     "execution_count": 31,
     "metadata": {},
     "output_type": "execute_result"
    }
   ],
   "source": [
    "X_test[:3].shape"
   ]
  },
  {
   "cell_type": "code",
   "execution_count": 32,
   "metadata": {
    "colab": {
     "base_uri": "https://localhost:8080/"
    },
    "executionInfo": {
     "elapsed": 527,
     "status": "ok",
     "timestamp": 1624380096016,
     "user": {
      "displayName": "Swati Panchal",
      "photoUrl": "https://lh3.googleusercontent.com/a-/AOh14GgNwzMAdH3k2CqNl8J3qroU_st11KSukf3LoBxZRQ=s64",
      "userId": "17766864383620253128"
     },
     "user_tz": -330
    },
    "id": "hZIw1Cu5l2Xe",
    "outputId": "caeec2a6-60ed-43a1-ca84-b309e78dbdb8"
   },
   "outputs": [
    {
     "data": {
      "text/plain": [
       "array([[0.   , 0.   , 0.   , 0.002, 0.   , 0.   , 0.   , 0.998, 0.   ,\n",
       "        0.   ],\n",
       "       [0.   , 0.   , 1.   , 0.   , 0.   , 0.   , 0.   , 0.   , 0.   ,\n",
       "        0.   ],\n",
       "       [0.   , 0.998, 0.   , 0.   , 0.001, 0.   , 0.   , 0.   , 0.001,\n",
       "        0.   ]], dtype=float32)"
      ]
     },
     "execution_count": 32,
     "metadata": {},
     "output_type": "execute_result"
    }
   ],
   "source": [
    "X_new = X_test[:3]\n",
    "y_pred = model_cf.predict(X_new)\n",
    "y_pred.round(3)"
   ]
  },
  {
   "cell_type": "code",
   "execution_count": 33,
   "metadata": {
    "colab": {
     "base_uri": "https://localhost:8080/"
    },
    "executionInfo": {
     "elapsed": 501,
     "status": "ok",
     "timestamp": 1624380135976,
     "user": {
      "displayName": "Swati Panchal",
      "photoUrl": "https://lh3.googleusercontent.com/a-/AOh14GgNwzMAdH3k2CqNl8J3qroU_st11KSukf3LoBxZRQ=s64",
      "userId": "17766864383620253128"
     },
     "user_tz": -330
    },
    "id": "k7em80gmmTR9",
    "outputId": "1ff82628-6397-4427-ff46-932c446514e0"
   },
   "outputs": [
    {
     "data": {
      "text/plain": [
       "array([7, 2, 1], dtype=int64)"
      ]
     },
     "execution_count": 33,
     "metadata": {},
     "output_type": "execute_result"
    }
   ],
   "source": [
    "y_pred = np.argmax(y_pred, axis=1)\n",
    "y_pred"
   ]
  },
  {
   "cell_type": "code",
   "execution_count": 34,
   "metadata": {
    "colab": {
     "base_uri": "https://localhost:8080/"
    },
    "executionInfo": {
     "elapsed": 516,
     "status": "ok",
     "timestamp": 1624380662421,
     "user": {
      "displayName": "Swati Panchal",
      "photoUrl": "https://lh3.googleusercontent.com/a-/AOh14GgNwzMAdH3k2CqNl8J3qroU_st11KSukf3LoBxZRQ=s64",
      "userId": "17766864383620253128"
     },
     "user_tz": -330
    },
    "id": "UHoO1oZWno3E",
    "outputId": "1da1a188-1b8d-419b-859d-3c3350b9dd97"
   },
   "outputs": [
    {
     "data": {
      "text/plain": [
       "array([7, 2, 1], dtype=uint8)"
      ]
     },
     "execution_count": 34,
     "metadata": {},
     "output_type": "execute_result"
    }
   ],
   "source": [
    "y_test_new = y_test[:3]\n",
    "y_test_new"
   ]
  },
  {
   "cell_type": "code",
   "execution_count": 36,
   "metadata": {
    "colab": {
     "base_uri": "https://localhost:8080/",
     "height": 809
    },
    "executionInfo": {
     "elapsed": 43,
     "status": "ok",
     "timestamp": 1624381152283,
     "user": {
      "displayName": "Swati Panchal",
      "photoUrl": "https://lh3.googleusercontent.com/a-/AOh14GgNwzMAdH3k2CqNl8J3qroU_st11KSukf3LoBxZRQ=s64",
      "userId": "17766864383620253128"
     },
     "user_tz": -330
    },
    "id": "dF9jN1_Aod21",
    "outputId": "38990997-2e93-437a-fe28-1f0089e5f0c5"
   },
   "outputs": [
    {
     "data": {
      "image/png": "[encoded data removed]",
      "text/plain": [
       "<Figure size 432x288 with 1 Axes>"
      ]
     },
     "metadata": {
      "needs_background": "light"
     },
     "output_type": "display_data"
    },
    {
     "name": "stdout",
     "output_type": "stream",
     "text": [
      "******************************\n"
     ]
    },
    {
     "data": {
      "image/png": "[encoded data removed]",
      "text/plain": [
       "<Figure size 432x288 with 1 Axes>"
      ]
     },
     "metadata": {
      "needs_background": "light"
     },
     "output_type": "display_data"
    },
    {
     "name": "stdout",
     "output_type": "stream",
     "text": [
      "******************************\n"
     ]
    },
    {
     "data": {
      "image/png": "[encoded data removed]",
      "text/plain": [
       "<Figure size 432x288 with 1 Axes>"
      ]
     },
     "metadata": {
      "needs_background": "light"
     },
     "output_type": "display_data"
    },
    {
     "name": "stdout",
     "output_type": "stream",
     "text": [
      "******************************\n"
     ]
    }
   ],
   "source": [
    "for data,pred,actual in zip(X_new, y_pred, y_test_new):\n",
    "    plt.imshow(data, cmap='binary')\n",
    "    plt.title(f\"Predicted : {pred}, Actual : {actual}\")\n",
    "    plt.axis(\"off\")\n",
    "    plt.show()\n",
    "    print('*'*30)\n"
   ]
  },
  {
   "cell_type": "markdown",
   "metadata": {
    "id": "M7hZO0UjqfRm"
   },
   "source": [
    "Loading the saved model"
   ]
  },
  {
   "cell_type": "code",
   "execution_count": 37,
   "metadata": {
    "executionInfo": {
     "elapsed": 1635,
     "status": "ok",
     "timestamp": 1624730609413,
     "user": {
      "displayName": "Swati Panchal",
      "photoUrl": "https://lh3.googleusercontent.com/a-/AOh14GgNwzMAdH3k2CqNl8J3qroU_st11KSukf3LoBxZRQ=s64",
      "userId": "17766864383620253128"
     },
     "user_tz": -330
    },
    "id": "JtTzkEECqHZv"
   },
   "outputs": [],
   "source": [
    "loaded_model = tf.keras.models.load_model('model.h5')"
   ]
  },
  {
   "cell_type": "code",
   "execution_count": 38,
   "metadata": {
    "colab": {
     "base_uri": "https://localhost:8080/"
    },
    "executionInfo": {
     "elapsed": 1832,
     "status": "ok",
     "timestamp": 1624730616224,
     "user": {
      "displayName": "Swati Panchal",
      "photoUrl": "https://lh3.googleusercontent.com/a-/AOh14GgNwzMAdH3k2CqNl8J3qroU_st11KSukf3LoBxZRQ=s64",
      "userId": "17766864383620253128"
     },
     "user_tz": -330
    },
    "id": "OSvO-VwgrD0u",
    "outputId": "5bbcc89d-e11f-4c44-f526-88d34f3bf2bc"
   },
   "outputs": [
    {
     "name": "stdout",
     "output_type": "stream",
     "text": [
      "313/313 [==============================] - 1s 2ms/step - loss: 0.0659 - accuracy: 0.9791\n"
     ]
    },
    {
     "data": {
      "text/plain": [
       "[0.06593675911426544, 0.9790999889373779]"
      ]
     },
     "execution_count": 38,
     "metadata": {},
     "output_type": "execute_result"
    }
   ],
   "source": [
    "loaded_model.evaluate(X_test,y_test)"
   ]
  },
  {
   "cell_type": "code",
   "execution_count": 39,
   "metadata": {
    "colab": {
     "base_uri": "https://localhost:8080/"
    },
    "executionInfo": {
     "elapsed": 981,
     "status": "ok",
     "timestamp": 1624718200568,
     "user": {
      "displayName": "Swati Panchal",
      "photoUrl": "https://lh3.googleusercontent.com/a-/AOh14GgNwzMAdH3k2CqNl8J3qroU_st11KSukf3LoBxZRQ=s64",
      "userId": "17766864383620253128"
     },
     "user_tz": -330
    },
    "id": "x8VR-AzQrIyj",
    "outputId": "8bfe0b54-c185-459a-85c0-e471b817d485"
   },
   "outputs": [
    {
     "data": {
      "text/plain": [
       "array([[1.0697499e-06, 4.3950749e-07, 1.3774409e-05, ..., 9.9781406e-01,\n",
       "        1.2028733e-05, 5.1373645e-05],\n",
       "       [4.5662088e-07, 2.0817633e-05, 9.9992049e-01, ..., 7.6538142e-12,\n",
       "        2.2240783e-06, 1.4475243e-11],\n",
       "       [1.6992641e-06, 9.9822325e-01, 7.2540875e-05, ..., 4.3095861e-04,\n",
       "        6.3079415e-04, 1.5647349e-05],\n",
       "       ...,\n",
       "       [9.7446573e-10, 8.8552310e-10, 3.5989087e-11, ..., 2.2504512e-06,\n",
       "        8.4503581e-06, 9.9269473e-06],\n",
       "       [3.9525476e-09, 4.3866333e-10, 4.9633055e-11, ..., 1.9488526e-10,\n",
       "        8.9114992e-06, 1.7676596e-11],\n",
       "       [1.6502235e-06, 2.2274307e-10, 5.3811146e-08, ..., 5.1838677e-12,\n",
       "        4.2118998e-08, 5.9277622e-10]], dtype=float32)"
      ]
     },
     "execution_count": 39,
     "metadata": {},
     "output_type": "execute_result"
    }
   ],
   "source": [
    "loaded_model.predict(X_test)"
   ]
  },
  {
   "cell_type": "code",
   "execution_count": 40,
   "metadata": {
    "colab": {
     "base_uri": "https://localhost:8080/"
    },
    "executionInfo": {
     "elapsed": 352,
     "status": "ok",
     "timestamp": 1624510655867,
     "user": {
      "displayName": "Swati Panchal",
      "photoUrl": "https://lh3.googleusercontent.com/a-/AOh14GgNwzMAdH3k2CqNl8J3qroU_st11KSukf3LoBxZRQ=s64",
      "userId": "17766864383620253128"
     },
     "user_tz": -330
    },
    "id": "rpZm9pNmYTZI",
    "outputId": "d7cb856a-8837-452e-af74-3d754bf9bfe1"
   },
   "outputs": [
    {
     "name": "stdout",
     "output_type": "stream",
     "text": [
      "(28, 28)\n"
     ]
    }
   ],
   "source": [
    "print(X_test[3].shape)"
   ]
  },
  {
   "cell_type": "code",
   "execution_count": 41,
   "metadata": {
    "executionInfo": {
     "elapsed": 1032,
     "status": "ok",
     "timestamp": 1624730625919,
     "user": {
      "displayName": "Swati Panchal",
      "photoUrl": "https://lh3.googleusercontent.com/a-/AOh14GgNwzMAdH3k2CqNl8J3qroU_st11KSukf3LoBxZRQ=s64",
      "userId": "17766864383620253128"
     },
     "user_tz": -330
    },
    "id": "GrikrRH8V6gz"
   },
   "outputs": [],
   "source": [
    "from keras.preprocessing.image import img_to_array , load_img"
   ]
  },
  {
   "cell_type": "code",
   "execution_count": 59,
   "metadata": {
    "colab": {
     "base_uri": "https://localhost:8080/"
    },
    "executionInfo": {
     "elapsed": 497,
     "status": "ok",
     "timestamp": 1624730701729,
     "user": {
      "displayName": "Swati Panchal",
      "photoUrl": "https://lh3.googleusercontent.com/a-/AOh14GgNwzMAdH3k2CqNl8J3qroU_st11KSukf3LoBxZRQ=s64",
      "userId": "17766864383620253128"
     },
     "user_tz": -330
    },
    "id": "WZgZ-3aTrOc9",
    "outputId": "d6b79b9e-739b-4f14-f691-c70389bb1c81"
   },
   "outputs": [
    {
     "name": "stdout",
     "output_type": "stream",
     "text": [
      "<PIL.JpegImagePlugin.JpegImageFile image mode=L size=28x28 at 0x21C98A0C608>\n"
     ]
    }
   ],
   "source": [
    "\n",
    "# img = cv2.imread(\"image-7.png\",0)\n",
    "# print(img.shape)\n",
    "\n",
    "img = load_img(\"C:/Users/Swati Panchal/Documents/ML_Internship/Digit_Images/img_39.jpg\",grayscale=True, target_size=(28, 28))\n",
    "print(img)\n",
    "img = img_to_array(img)"
   ]
  },
  {
   "cell_type": "code",
   "execution_count": 60,
   "metadata": {
    "executionInfo": {
     "elapsed": 5,
     "status": "ok",
     "timestamp": 1624730702355,
     "user": {
      "displayName": "Swati Panchal",
      "photoUrl": "https://lh3.googleusercontent.com/a-/AOh14GgNwzMAdH3k2CqNl8J3qroU_st11KSukf3LoBxZRQ=s64",
      "userId": "17766864383620253128"
     },
     "user_tz": -330
    },
    "id": "XMKO9Y5GMFxM"
   },
   "outputs": [],
   "source": [
    "img = img.reshape((28,28))\n",
    "img /=255."
   ]
  },
  {
   "cell_type": "code",
   "execution_count": 61,
   "metadata": {
    "colab": {
     "base_uri": "https://localhost:8080/",
     "height": 281
    },
    "executionInfo": {
     "elapsed": 17,
     "status": "ok",
     "timestamp": 1624730702816,
     "user": {
      "displayName": "Swati Panchal",
      "photoUrl": "https://lh3.googleusercontent.com/a-/AOh14GgNwzMAdH3k2CqNl8J3qroU_st11KSukf3LoBxZRQ=s64",
      "userId": "17766864383620253128"
     },
     "user_tz": -330
    },
    "id": "r4oRY4GHkZPS",
    "outputId": "d16c7c90-fc78-454f-ad3a-18e670b494f3"
   },
   "outputs": [
    {
     "data": {
      "text/plain": [
       "<matplotlib.image.AxesImage at 0x21c989d8a48>"
      ]
     },
     "execution_count": 61,
     "metadata": {},
     "output_type": "execute_result"
    },
    {
     "data": {
      "image/png": "[encoded data removed]",
      "text/plain": [
       "<Figure size 432x288 with 1 Axes>"
      ]
     },
     "metadata": {
      "needs_background": "light"
     },
     "output_type": "display_data"
    }
   ],
   "source": [
    "plt.imshow(img, cmap='binary')"
   ]
  },
  {
   "cell_type": "code",
   "execution_count": 62,
   "metadata": {
    "colab": {
     "base_uri": "https://localhost:8080/",
     "height": 883
    },
    "executionInfo": {
     "elapsed": 3972,
     "status": "ok",
     "timestamp": 1624718290080,
     "user": {
      "displayName": "Swati Panchal",
      "photoUrl": "https://lh3.googleusercontent.com/a-/AOh14GgNwzMAdH3k2CqNl8J3qroU_st11KSukf3LoBxZRQ=s64",
      "userId": "17766864383620253128"
     },
     "user_tz": -330
    },
    "id": "_z0dnQCjkeaG",
    "outputId": "3a5c68a3-dc14-4452-f4ad-a315d0aeb8cc"
   },
   "outputs": [
    {
     "data": {
      "text/plain": [
       "<matplotlib.axes._subplots.AxesSubplot at 0x21c98a0b6c8>"
      ]
     },
     "execution_count": 62,
     "metadata": {},
     "output_type": "execute_result"
    },
    {
     "data": {
      "image/png": "[encoded data removed]",
      "text/plain": [
       "<Figure size 1080x1080 with 2 Axes>"
      ]
     },
     "metadata": {
      "needs_background": "light"
     },
     "output_type": "display_data"
    }
   ],
   "source": [
    "plt.figure(figsize=(15,15))\n",
    "sns.heatmap(img, annot=True, cmap = 'binary')"
   ]
  },
  {
   "cell_type": "code",
   "execution_count": 63,
   "metadata": {
    "executionInfo": {
     "elapsed": 9,
     "status": "ok",
     "timestamp": 1624730705851,
     "user": {
      "displayName": "Swati Panchal",
      "photoUrl": "https://lh3.googleusercontent.com/a-/AOh14GgNwzMAdH3k2CqNl8J3qroU_st11KSukf3LoBxZRQ=s64",
      "userId": "17766864383620253128"
     },
     "user_tz": -330
    },
    "id": "lPWhZXefkpcj"
   },
   "outputs": [],
   "source": [
    "img = np.expand_dims(img, axis=0)"
   ]
  },
  {
   "cell_type": "code",
   "execution_count": 64,
   "metadata": {
    "colab": {
     "base_uri": "https://localhost:8080/"
    },
    "executionInfo": {
     "elapsed": 14,
     "status": "ok",
     "timestamp": 1624719154483,
     "user": {
      "displayName": "Swati Panchal",
      "photoUrl": "https://lh3.googleusercontent.com/a-/AOh14GgNwzMAdH3k2CqNl8J3qroU_st11KSukf3LoBxZRQ=s64",
      "userId": "17766864383620253128"
     },
     "user_tz": -330
    },
    "id": "2BV3LyqBslg4",
    "outputId": "b99f35bf-c8d7-412f-dcfc-226247dfd8ee"
   },
   "outputs": [
    {
     "data": {
      "text/plain": [
       "3"
      ]
     },
     "execution_count": 64,
     "metadata": {},
     "output_type": "execute_result"
    }
   ],
   "source": [
    "img.ndim"
   ]
  },
  {
   "cell_type": "code",
   "execution_count": 65,
   "metadata": {
    "colab": {
     "base_uri": "https://localhost:8080/"
    },
    "executionInfo": {
     "elapsed": 8,
     "status": "ok",
     "timestamp": 1624719155630,
     "user": {
      "displayName": "Swati Panchal",
      "photoUrl": "https://lh3.googleusercontent.com/a-/AOh14GgNwzMAdH3k2CqNl8J3qroU_st11KSukf3LoBxZRQ=s64",
      "userId": "17766864383620253128"
     },
     "user_tz": -330
    },
    "id": "XhWES81ctR4M",
    "outputId": "37591153-83b0-4e1c-82eb-ad1051197b43"
   },
   "outputs": [
    {
     "data": {
      "text/plain": [
       "(1, 28, 28)"
      ]
     },
     "execution_count": 65,
     "metadata": {},
     "output_type": "execute_result"
    }
   ],
   "source": [
    "img.shape"
   ]
  },
  {
   "cell_type": "code",
   "execution_count": null,
   "metadata": {
    "executionInfo": {
     "elapsed": 3,
     "status": "ok",
     "timestamp": 1624719157092,
     "user": {
      "displayName": "Swati Panchal",
      "photoUrl": "https://lh3.googleusercontent.com/a-/AOh14GgNwzMAdH3k2CqNl8J3qroU_st11KSukf3LoBxZRQ=s64",
      "userId": "17766864383620253128"
     },
     "user_tz": -330
    },
    "id": "0CH7vrvMtRyH"
   },
   "outputs": [],
   "source": []
  },
  {
   "cell_type": "code",
   "execution_count": 66,
   "metadata": {
    "colab": {
     "base_uri": "https://localhost:8080/"
    },
    "executionInfo": {
     "elapsed": 433,
     "status": "ok",
     "timestamp": 1624730708577,
     "user": {
      "displayName": "Swati Panchal",
      "photoUrl": "https://lh3.googleusercontent.com/a-/AOh14GgNwzMAdH3k2CqNl8J3qroU_st11KSukf3LoBxZRQ=s64",
      "userId": "17766864383620253128"
     },
     "user_tz": -330
    },
    "id": "FnIDeQipsnBL",
    "outputId": "ed2fde74-ae57-45d1-d157-14125412cf1e"
   },
   "outputs": [
    {
     "data": {
      "text/plain": [
       "array([[7.6338331e-11, 9.9896967e-01, 6.5748645e-06, 2.2378108e-04,\n",
       "        3.6924446e-04, 7.7376990e-06, 5.2458824e-07, 1.6133548e-05,\n",
       "        3.5668325e-04, 4.9605758e-05]], dtype=float32)"
      ]
     },
     "execution_count": 66,
     "metadata": {},
     "output_type": "execute_result"
    }
   ],
   "source": [
    "pred = loaded_model.predict(img)\n",
    "pred"
   ]
  },
  {
   "cell_type": "code",
   "execution_count": 67,
   "metadata": {
    "colab": {
     "base_uri": "https://localhost:8080/"
    },
    "executionInfo": {
     "elapsed": 9,
     "status": "ok",
     "timestamp": 1624730708578,
     "user": {
      "displayName": "Swati Panchal",
      "photoUrl": "https://lh3.googleusercontent.com/a-/AOh14GgNwzMAdH3k2CqNl8J3qroU_st11KSukf3LoBxZRQ=s64",
      "userId": "17766864383620253128"
     },
     "user_tz": -330
    },
    "id": "xFJOXVgkyseb",
    "outputId": "67f15aca-3f1d-44a2-eafa-d87e515c8448"
   },
   "outputs": [
    {
     "data": {
      "text/plain": [
       "1"
      ]
     },
     "execution_count": 67,
     "metadata": {},
     "output_type": "execute_result"
    }
   ],
   "source": [
    "np.argmax(pred)"
   ]
  },
  {
   "cell_type": "code",
   "execution_count": null,
   "metadata": {
    "id": "Dc7qcNoswKz0"
   },
   "outputs": [],
   "source": []
  }
 ],
 "metadata": {
  "accelerator": "GPU",
  "colab": {
   "authorship_tag": "ABX9TyMCAksYoBDzGRcZ5HK0XTAn",
   "collapsed_sections": [],
   "mount_file_id": "1CJzsTNn4iFEb9duKrGtwEsl5bco67dVl",
   "name": "Digit_Recognition.ipynb",
   "provenance": []
  },
  "kernelspec": {
   "display_name": "Python 3",
   "language": "python",
   "name": "python3"
  },
  "language_info": {
   "codemirror_mode": {
    "name": "ipython",
    "version": 3
   },
   "file_extension": ".py",
   "mimetype": "text/x-python",
   "name": "python",
   "nbconvert_exporter": "python",
   "pygments_lexer": "ipython3",
   "version": "3.7.6"
  }
 },
 "nbformat": 4,
 "nbformat_minor": 1
}
